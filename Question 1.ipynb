{
 "cells": [
  {
   "cell_type": "markdown",
   "metadata": {},
   "source": [
    "# Testing Hash Functions"
   ]
  },
  {
   "cell_type": "markdown",
   "metadata": {},
   "source": [
    "Avalanche Analysis: A common test of hash function performance is whether or not it achieves “avalanche.”\n",
    "\n",
    "This refers to the desireable characteristic that\n",
    "P(Output bit i changes | Input bit j changes) = 0.5 ∀i, j\n",
    "We are going to analyze three hash functions. Lets fix the range to 10 bits, and P = 1048573 Pick,\n",
    "a,b,c,d uniformly between [1−1048573], and store them. (you need to report the numbers you generated)\n",
    "\n",
    "Your hash functions h(x) are\n",
    "1. ((ax + b) mod P) mod 1024 (2-universal)\n",
    "2. ((ax2 + bx + c) mod P) mod 1024 (3-universal)\n",
    "3. ((ax3 + bx2 + cx + d) mod P) mod 1024 (4-universal)\n",
    "4. murmurhash3 with a fixed seed (use murmurhash from sklearn.utils import murmurhash3_32. Feel\n",
    "free to take extra mod to constrain it in range [0-1023])\n",
    "\n",
    "Randomly generate 5000 positive integers 31-bit keys (values of x) to start with. Design your experiment to estimate the probability values (you need to flip bits now).\n",
    "Create a 2 dimensional heatmap : On x-axis, we have bits in the input. For every input bit j, we have\n",
    "to calculate 10 values, which is the probability\n",
    "P(Output bit i changes | Input bit j changes) = 0.5 ∀i, j\n",
    "\n",
    "Find the most convenient way to have this heatmap. (value of 0.5 should be dark for best visualization).\n",
    "Write a paragraph on the plot and your conclusion."
   ]
  },
  {
   "cell_type": "markdown",
   "metadata": {},
   "source": [
    "Process:\n",
    "So the way I'm going to go about this is I'll first generate the 5000 positive integers. I'll take an integer(m) convert it to bit representation. I'll flip a bit(one of the 31), thus getting a new number(n). I'll hash both m and n and see the number of bit differences from h(n) and h(m). Repeat this process for each random positive integer generated. Create a heat map and then (I think)write out the P(Output bit i changes | Input bit j changes) ∀i,j that I observe. \n",
    "\n",
    "\n",
    "\n",
    "But first I need to create the hash functions:"
   ]
  },
  {
   "cell_type": "markdown",
   "metadata": {},
   "source": [
    "## Hash Functions"
   ]
  },
  {
   "cell_type": "code",
   "execution_count": 18,
   "metadata": {},
   "outputs": [],
   "source": [
    "import numpy as np"
   ]
  },
  {
   "cell_type": "code",
   "execution_count": 2,
   "metadata": {},
   "outputs": [],
   "source": [
    " from sklearn.utils import murmurhash3_32"
   ]
  },
  {
   "cell_type": "code",
   "execution_count": 3,
   "metadata": {},
   "outputs": [],
   "source": [
    "P = 1048573 \n",
    "a = 60843\n",
    "b = 470521\n",
    "c = 501441\n",
    "d = 996768\n",
    "seed=69420"
   ]
  },
  {
   "cell_type": "code",
   "execution_count": 4,
   "metadata": {},
   "outputs": [],
   "source": [
    "def h2Uni(x):\n",
    "    \"\"\"\n",
    "    A 2-universal hash function of a positive integer\n",
    "    \n",
    "    \"\"\"\n",
    "    return (((a * x) + b) % P) % 1024"
   ]
  },
  {
   "cell_type": "code",
   "execution_count": 5,
   "metadata": {},
   "outputs": [],
   "source": [
    "def h3Uni(x):\n",
    "    \"\"\"\n",
    "    A 3-universal hash function of a positive integer\n",
    "    \n",
    "    \"\"\"\n",
    "    return (((a * (x ** 2)) + (b * x) + c) % P) % 1024"
   ]
  },
  {
   "cell_type": "code",
   "execution_count": 6,
   "metadata": {},
   "outputs": [],
   "source": [
    "def h4Uni(x):\n",
    "    \"\"\"\n",
    "    A 4-universal hash function of a positive integer\n",
    "    \n",
    "    \"\"\"\n",
    "    return (((a * (x ** 3)) + (b * (x ** 2)) + (c *x) + d) % P) % 1024"
   ]
  },
  {
   "cell_type": "code",
   "execution_count": 7,
   "metadata": {},
   "outputs": [],
   "source": [
    "def hMurmash(x):\n",
    "    \"\"\"\n",
    "    A Murmash hash function of a positive integer\n",
    "    \n",
    "    \"\"\"\n",
    "    #Do an extra mod 1024\n",
    "    return (murmurhash3_32(x,seed=seed)) % 1024"
   ]
  },
  {
   "cell_type": "code",
   "execution_count": 17,
   "metadata": {},
   "outputs": [
    {
     "name": "stdout",
     "output_type": "stream",
     "text": [
      "179\n"
     ]
    }
   ],
   "source": [
    "print(hMurmash(9))"
   ]
  },
  {
   "cell_type": "code",
   "execution_count": 25,
   "metadata": {},
   "outputs": [],
   "source": [
    "l=np.random.randint(low=1, high=1048573, size=1)"
   ]
  },
  {
   "cell_type": "code",
   "execution_count": 30,
   "metadata": {},
   "outputs": [
    {
     "name": "stdout",
     "output_type": "stream",
     "text": [
      "427\n"
     ]
    },
    {
     "name": "stderr",
     "output_type": "stream",
     "text": [
      "C:\\Users\\Pelumi\\Anaconda3\\lib\\site-packages\\ipykernel_launcher.py:6: RuntimeWarning: overflow encountered in long_scalars\n",
      "  \n"
     ]
    }
   ],
   "source": [
    "print(h3Uni(l[0]))"
   ]
  },
  {
   "cell_type": "code",
   "execution_count": null,
   "metadata": {},
   "outputs": [],
   "source": [
    "#defiing my bit flipping function\n",
    "def flipKthBit(orig_numb,inputBit):\n",
    "    '''\n",
    "    Inputs:\n",
    "    'orig_numb' is the number whose bit we want to flip\n",
    "    \n",
    "    'inputBit' is the particular bit we want to flip. It ranges from 1 to 32 \n",
    "    \n",
    "    Output:\n",
    "    A new number as a result of the singular bit flip\n",
    "    '''\n",
    "    return (orig_numb ^ (1 << inputBit))"
   ]
  }
 ],
 "metadata": {
  "kernelspec": {
   "display_name": "Python 3",
   "language": "python",
   "name": "python3"
  },
  "language_info": {
   "codemirror_mode": {
    "name": "ipython",
    "version": 3
   },
   "file_extension": ".py",
   "mimetype": "text/x-python",
   "name": "python",
   "nbconvert_exporter": "python",
   "pygments_lexer": "ipython3",
   "version": "3.7.3"
  }
 },
 "nbformat": 4,
 "nbformat_minor": 2
}
