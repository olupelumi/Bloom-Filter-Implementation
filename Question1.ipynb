{
 "cells": [
  {
   "cell_type": "markdown",
   "metadata": {},
   "source": [
    "# Testing Hash Functions"
   ]
  },
  {
   "cell_type": "markdown",
   "metadata": {},
   "source": [
    "Avalanche Analysis: A common test of hash function performance is whether or not it achieves “avalanche.”\n",
    "\n",
    "This refers to the desireable characteristic that\n",
    "P(Output bit i changes | Input bit j changes) = 0.5 ∀i, j\n",
    "We are going to analyze three hash functions. Lets fix the range to 10 bits, and P = 1048573 Pick,\n",
    "a,b,c,d uniformly between [1−1048573], and store them. (you need to report the numbers you generated)\n",
    "\n",
    "Your hash functions h(x) are\n",
    "1. ((ax + b) mod P) mod 1024 (2-universal)\n",
    "2. ((ax2 + bx + c) mod P) mod 1024 (3-universal)\n",
    "3. ((ax3 + bx2 + cx + d) mod P) mod 1024 (4-universal)\n",
    "4. murmurhash3 with a fixed seed (use murmurhash from sklearn.utils import murmurhash3_32. Feel\n",
    "free to take extra mod to constrain it in range [0-1023])\n",
    "\n",
    "Randomly generate 5000 positive integers 31-bit keys (values of x) to start with. Design your experiment to estimate the probability values (you need to flip bits now).\n",
    "Create a 2 dimensional heatmap : On x-axis, we have bits in the input. For every input bit j, we have\n",
    "to calculate 10 values, which is the probability\n",
    "P(Output bit i changes | Input bit j changes) = 0.5 ∀i, j\n",
    "\n",
    "Find the most convenient way to have this heatmap. (value of 0.5 should be dark for best visualization).\n",
    "Write a paragraph on the plot and your conclusion."
   ]
  },
  {
   "cell_type": "markdown",
   "metadata": {},
   "source": [
    "Process:\n",
    "So the way I'm going to go about this is I'll first generate the 5000 positive integers. I'll take an integer(m) convert it to bit representation. I'll flip a bit(one of the 31), thus getting a new number(n). I'll hash both m and n and see the number of bit differences from h(n) and h(m). Repeat this process for each random positive integer generated. Create a heat map and then (I think)write out the P(Output bit i changes | Input bit j changes) ∀i,j that I observe. \n",
    "\n",
    "\n",
    "\n",
    "But first I need to create the hash functions:"
   ]
  },
  {
   "cell_type": "markdown",
   "metadata": {},
   "source": [
    "## Hash Functions"
   ]
  },
  {
   "cell_type": "code",
   "execution_count": 11,
   "metadata": {},
   "outputs": [],
   "source": [
    "import numpy as np"
   ]
  },
  {
   "cell_type": "code",
   "execution_count": 12,
   "metadata": {},
   "outputs": [],
   "source": [
    " from sklearn.utils import murmurhash3_32"
   ]
  },
  {
   "cell_type": "code",
   "execution_count": 13,
   "metadata": {},
   "outputs": [],
   "source": [
    "P = 1048573 \n",
    "a = 60843\n",
    "b = 470521\n",
    "c = 501441\n",
    "d = 996768\n",
    "seed=69420"
   ]
  },
  {
   "cell_type": "code",
   "execution_count": 14,
   "metadata": {},
   "outputs": [],
   "source": [
    "def h2Uni(x):\n",
    "    \"\"\"\n",
    "    A 2-universal hash function of a positive integer\n",
    "    \n",
    "    \"\"\"\n",
    "    return (((a * x) + b) % P) % 1024"
   ]
  },
  {
   "cell_type": "code",
   "execution_count": 15,
   "metadata": {},
   "outputs": [],
   "source": [
    "def h3Uni(x):\n",
    "    \"\"\"\n",
    "    A 3-universal hash function of a positive integer\n",
    "    \n",
    "    \"\"\"\n",
    "    return (((a * (x ** 2)) + (b * x) + c) % P) % 1024"
   ]
  },
  {
   "cell_type": "code",
   "execution_count": 16,
   "metadata": {},
   "outputs": [],
   "source": [
    "def h4Uni(x):\n",
    "    \"\"\"\n",
    "    A 4-universal hash function of a positive integer\n",
    "    \n",
    "    \"\"\"\n",
    "    return (((a * (x ** 3)) + (b * (x ** 2)) + (c *x) + d) % P) % 1024"
   ]
  },
  {
   "cell_type": "code",
   "execution_count": 17,
   "metadata": {},
   "outputs": [],
   "source": [
    "def hMurmash(x):\n",
    "    \"\"\"\n",
    "    A Murmash hash function of a positive integer\n",
    "    \n",
    "    \"\"\"\n",
    "    #Do an extra mod 1024\n",
    "    return (murmurhash3_32(x,seed=seed)) % 1024"
   ]
  },
  {
   "cell_type": "code",
   "execution_count": 18,
   "metadata": {},
   "outputs": [
    {
     "name": "stdout",
     "output_type": "stream",
     "text": [
      "195\n"
     ]
    }
   ],
   "source": [
    "print(hMurmash(9))"
   ]
  },
  {
   "cell_type": "code",
   "execution_count": 19,
   "metadata": {},
   "outputs": [],
   "source": [
    "l=np.random.randint(low=1, high=1048573, size=1)"
   ]
  },
  {
   "cell_type": "code",
   "execution_count": 20,
   "metadata": {},
   "outputs": [
    {
     "name": "stdout",
     "output_type": "stream",
     "text": [
      "62\n"
     ]
    },
    {
     "name": "stderr",
     "output_type": "stream",
     "text": [
      "C:\\Users\\Pelumi\\Anaconda3\\lib\\site-packages\\ipykernel_launcher.py:6: RuntimeWarning: overflow encountered in long_scalars\n",
      "  \n"
     ]
    }
   ],
   "source": [
    "print(h3Uni(l[0]))"
   ]
  },
  {
   "cell_type": "code",
   "execution_count": 21,
   "metadata": {},
   "outputs": [],
   "source": [
    "#defiing my bit flipping function\n",
    "def flipKthBit(orig_numb,inputBit):\n",
    "    '''\n",
    "    Inputs:\n",
    "    'orig_numb' is the number whose bit we want to flip\n",
    "    \n",
    "    'inputBit' is the particular bit we want to flip. It ranges from 0 to 31\n",
    "    \n",
    "    Output:\n",
    "    A new number as a result of the singular bit flip\n",
    "    '''\n",
    "    return (orig_numb ^ (1 << inputBit))"
   ]
  },
  {
   "cell_type": "code",
   "execution_count": 22,
   "metadata": {},
   "outputs": [
    {
     "name": "stdout",
     "output_type": "stream",
     "text": [
      "5\n"
     ]
    }
   ],
   "source": [
    "#testing my bit flipping function\n",
    "print(flipKthBit(1,2))#Okay I believe it works"
   ]
  },
  {
   "cell_type": "code",
   "execution_count": 51,
   "metadata": {},
   "outputs": [
    {
     "name": "stdout",
     "output_type": "stream",
     "text": [
      "932\n",
      "592\n"
     ]
    }
   ],
   "source": [
    "new=flipKthBit(1,2)#5\n",
    "print(h2Uni(1))\n",
    "print(h2Uni(new))"
   ]
  },
  {
   "cell_type": "code",
   "execution_count": 99,
   "metadata": {},
   "outputs": [],
   "source": [
    "def arrBitDiff(a, b): #I could also use this to figure out the certain bits that are different\n",
    "    '''\n",
    "   requires two integers a,b\n",
    "   \n",
    "   returns an array showing which bits differed in the two integers\n",
    "   \n",
    "   '''\n",
    "\n",
    "    # since, the numbers are less than 2^31 \n",
    "    # run the loop from '0' to '31' only\n",
    "    diff_bit_lst=[]\n",
    "    count=0\n",
    "    for i in range(32): \n",
    "        # right shift both the numbers by 'i' and \n",
    "        # check if the bit at the 0th position is different \n",
    "        if ((( a >>  i) & 1) != (( b >>  i) & 1)):  \n",
    "            diff_bit_lst.append(i)\n",
    "            count += 1\n",
    "                        \n",
    "    return (diff_bit_lst)       "
   ]
  },
  {
   "cell_type": "code",
   "execution_count": 95,
   "metadata": {},
   "outputs": [
    {
     "name": "stdout",
     "output_type": "stream",
     "text": [
      "[2, 4, 5, 6, 7, 8]\n"
     ]
    }
   ],
   "source": [
    "print(arrBitDiff(932,592))"
   ]
  },
  {
   "cell_type": "code",
   "execution_count": null,
   "metadata": {},
   "outputs": [],
   "source": [
    "#I need to create a 2dimmensional heat map to show for the 5000 integers, which bits are different when I flip bit j"
   ]
  },
  {
   "cell_type": "code",
   "execution_count": 131,
   "metadata": {},
   "outputs": [],
   "source": [
    " #Generating the 5000 random integers\n",
    "np.random.seed(seed=6) #set the seed\n",
    "numb5000 = np.random.randint(low=1, high=1048573, size=5000,dtype='int')"
   ]
  },
  {
   "cell_type": "code",
   "execution_count": 114,
   "metadata": {},
   "outputs": [
    {
     "name": "stderr",
     "output_type": "stream",
     "text": [
      "C:\\Users\\Pelumi\\Anaconda3\\lib\\site-packages\\ipykernel_launcher.py:6: RuntimeWarning: overflow encountered in long_scalars\n",
      "  \n"
     ]
    }
   ],
   "source": [
    "#H2Uni\n",
    "prob_matx=np.zeros((32,10))\n",
    "for bit in range(32):\n",
    "    for number in numb5000:\n",
    "        old_numb = number\n",
    "        new_numb = flipKthBit(orig_numb=old_numb,inputBit=bit)\n",
    "        #print(old_numb,new_numb)\n",
    "        h_new=h2Uni(new_numb)\n",
    "        h_old=h2Uni(old_numb)\n",
    "        #print(h_old,h_new)\n",
    "        bit_pos= arrBitDiff(h_new,h_old)\n",
    "        #print(bit_pos)\n",
    "        #TODO find the frequency in which the numbers show up\n",
    "        for n in bit_pos:\n",
    "            prob_matx[bit][n]+=1\n",
    "    \n",
    "prob_matx = (1/5000)*prob_matx \n",
    "\n",
    "#print(prob_matx)\n",
    "    \n",
    "    "
   ]
  },
  {
   "cell_type": "code",
   "execution_count": 117,
   "metadata": {},
   "outputs": [],
   "source": [
    "#heatmap\n",
    "import seaborn as sns\n",
    "import matplotlib.pyplot as plt"
   ]
  },
  {
   "cell_type": "code",
   "execution_count": 125,
   "metadata": {},
   "outputs": [
    {
     "data": {
      "text/plain": [
       "Text(0.5, 15.0, 'Bit positions post Hash')"
      ]
     },
     "execution_count": 125,
     "metadata": {},
     "output_type": "execute_result"
    },
    {
     "data": {
      "image/png": "[encoded data removed]",
      "text/plain": [
       "<Figure size 432x288 with 2 Axes>"
      ]
     },
     "metadata": {
      "needs_background": "light"
     },
     "output_type": "display_data"
    }
   ],
   "source": []
  },
  {
   "cell_type": "code",
   "execution_count": 133,
   "metadata": {},
   "outputs": [],
   "source": [
    "def avalanche_experiment(hash_func,func_name):\n",
    "    prob_matx=np.zeros((32,10))\n",
    "    for bit in range(32):\n",
    "        for number in numb5000:\n",
    "            old_numb = number\n",
    "            new_numb = flipKthBit(orig_numb=old_numb,inputBit=bit)\n",
    "            #print(old_numb,new_numb)\n",
    "            h_new=hash_func(new_numb)\n",
    "            h_old=hash_func(old_numb)\n",
    "            #print(h_old,h_new)\n",
    "            bit_pos= arrBitDiff(h_new,h_old)\n",
    "            #print(bit_pos)\n",
    "            #TODO find the frequency in which the numbers show up\n",
    "            for n in bit_pos:\n",
    "                prob_matx[bit][n]+=1\n",
    "\n",
    "    prob_matx = (1/5000)*prob_matx \n",
    "    \n",
    "    sns.heatmap(prob_matx, cmap=sns.cm.rocket_r)\n",
    "    plt.title(func_name)\n",
    "    plt.ylabel(\"Original bit flipped\")\n",
    "    plt.xlabel(\"Bit positions post Hash\")\n",
    "\n",
    "    "
   ]
  },
  {
   "cell_type": "code",
   "execution_count": 127,
   "metadata": {},
   "outputs": [
    {
     "name": "stderr",
     "output_type": "stream",
     "text": [
      "C:\\Users\\Pelumi\\Anaconda3\\lib\\site-packages\\ipykernel_launcher.py:6: RuntimeWarning: overflow encountered in long_scalars\n",
      "  \n"
     ]
    },
    {
     "data": {
      "image/png": "[encoded data removed]",
      "text/plain": [
       "<Figure size 432x288 with 2 Axes>"
      ]
     },
     "metadata": {
      "needs_background": "light"
     },
     "output_type": "display_data"
    }
   ],
   "source": [
    "avalanche_experiment(h2Uni,\"2-Universal Hash Function\")"
   ]
  },
  {
   "cell_type": "code",
   "execution_count": 128,
   "metadata": {},
   "outputs": [
    {
     "name": "stderr",
     "output_type": "stream",
     "text": [
      "C:\\Users\\Pelumi\\Anaconda3\\lib\\site-packages\\ipykernel_launcher.py:6: RuntimeWarning: overflow encountered in long_scalars\n",
      "  \n",
      "C:\\Users\\Pelumi\\Anaconda3\\lib\\site-packages\\ipykernel_launcher.py:6: RuntimeWarning: overflow encountered in longlong_scalars\n",
      "  \n"
     ]
    },
    {
     "data": {
      "image/png": "[encoded data removed]",
      "text/plain": [
       "<Figure size 432x288 with 2 Axes>"
      ]
     },
     "metadata": {
      "needs_background": "light"
     },
     "output_type": "display_data"
    }
   ],
   "source": [
    "avalanche_experiment(h3Uni,\"3-Universal Hash Function\")\n",
    "#hMurmash"
   ]
  },
  {
   "cell_type": "code",
   "execution_count": 129,
   "metadata": {},
   "outputs": [
    {
     "name": "stderr",
     "output_type": "stream",
     "text": [
      "C:\\Users\\Pelumi\\Anaconda3\\lib\\site-packages\\ipykernel_launcher.py:6: RuntimeWarning: overflow encountered in long_scalars\n",
      "  \n",
      "C:\\Users\\Pelumi\\Anaconda3\\lib\\site-packages\\ipykernel_launcher.py:6: RuntimeWarning: overflow encountered in longlong_scalars\n",
      "  \n"
     ]
    },
    {
     "data": {
      "image/png": "[encoded data removed]",
      "text/plain": [
       "<Figure size 432x288 with 2 Axes>"
      ]
     },
     "metadata": {
      "needs_background": "light"
     },
     "output_type": "display_data"
    }
   ],
   "source": [
    "avalanche_experiment(h4Uni,\"4-Universal Hash Function\")"
   ]
  },
  {
   "cell_type": "code",
   "execution_count": 134,
   "metadata": {},
   "outputs": [
    {
     "ename": "TypeError",
     "evalue": "key 2147646347 with type <class 'numpy.int64'> is not supported. Explicit conversion to bytes is required",
     "output_type": "error",
     "traceback": [
      "\u001b[1;31m---------------------------------------------------------------------------\u001b[0m",
      "\u001b[1;31mTypeError\u001b[0m                                 Traceback (most recent call last)",
      "\u001b[1;32m<ipython-input-134-879574e05f91>\u001b[0m in \u001b[0;36m<module>\u001b[1;34m\u001b[0m\n\u001b[1;32m----> 1\u001b[1;33m \u001b[0mavalanche_experiment\u001b[0m\u001b[1;33m(\u001b[0m\u001b[0mhMurmash\u001b[0m\u001b[1;33m,\u001b[0m\u001b[1;34m\"Murmash Hash Function\"\u001b[0m\u001b[1;33m)\u001b[0m\u001b[1;33m\u001b[0m\u001b[1;33m\u001b[0m\u001b[0m\n\u001b[0m",
      "\u001b[1;32m<ipython-input-133-c914a0c70ff8>\u001b[0m in \u001b[0;36mavalanche_experiment\u001b[1;34m(hash_func, func_name)\u001b[0m\n\u001b[0;32m      6\u001b[0m             \u001b[0mnew_numb\u001b[0m \u001b[1;33m=\u001b[0m \u001b[0mflipKthBit\u001b[0m\u001b[1;33m(\u001b[0m\u001b[0morig_numb\u001b[0m\u001b[1;33m=\u001b[0m\u001b[0mold_numb\u001b[0m\u001b[1;33m,\u001b[0m\u001b[0minputBit\u001b[0m\u001b[1;33m=\u001b[0m\u001b[0mbit\u001b[0m\u001b[1;33m)\u001b[0m\u001b[1;33m\u001b[0m\u001b[1;33m\u001b[0m\u001b[0m\n\u001b[0;32m      7\u001b[0m             \u001b[1;31m#print(old_numb,new_numb)\u001b[0m\u001b[1;33m\u001b[0m\u001b[1;33m\u001b[0m\u001b[1;33m\u001b[0m\u001b[0m\n\u001b[1;32m----> 8\u001b[1;33m             \u001b[0mh_new\u001b[0m\u001b[1;33m=\u001b[0m\u001b[0mhash_func\u001b[0m\u001b[1;33m(\u001b[0m\u001b[0mnew_numb\u001b[0m\u001b[1;33m)\u001b[0m\u001b[1;33m\u001b[0m\u001b[1;33m\u001b[0m\u001b[0m\n\u001b[0m\u001b[0;32m      9\u001b[0m             \u001b[0mh_old\u001b[0m\u001b[1;33m=\u001b[0m\u001b[0mhash_func\u001b[0m\u001b[1;33m(\u001b[0m\u001b[0mold_numb\u001b[0m\u001b[1;33m)\u001b[0m\u001b[1;33m\u001b[0m\u001b[1;33m\u001b[0m\u001b[0m\n\u001b[0;32m     10\u001b[0m             \u001b[1;31m#print(h_old,h_new)\u001b[0m\u001b[1;33m\u001b[0m\u001b[1;33m\u001b[0m\u001b[1;33m\u001b[0m\u001b[0m\n",
      "\u001b[1;32m<ipython-input-17-0f3b717fc740>\u001b[0m in \u001b[0;36mhMurmash\u001b[1;34m(x)\u001b[0m\n\u001b[0;32m      5\u001b[0m     \"\"\"\n\u001b[0;32m      6\u001b[0m     \u001b[1;31m#Do an extra mod 1024\u001b[0m\u001b[1;33m\u001b[0m\u001b[1;33m\u001b[0m\u001b[1;33m\u001b[0m\u001b[0m\n\u001b[1;32m----> 7\u001b[1;33m     \u001b[1;32mreturn\u001b[0m \u001b[1;33m(\u001b[0m\u001b[0mmurmurhash3_32\u001b[0m\u001b[1;33m(\u001b[0m\u001b[0mx\u001b[0m\u001b[1;33m,\u001b[0m\u001b[0mseed\u001b[0m\u001b[1;33m=\u001b[0m\u001b[0mseed\u001b[0m\u001b[1;33m)\u001b[0m\u001b[1;33m)\u001b[0m \u001b[1;33m%\u001b[0m \u001b[1;36m1024\u001b[0m\u001b[1;33m\u001b[0m\u001b[1;33m\u001b[0m\u001b[0m\n\u001b[0m",
      "\u001b[1;32msklearn\\utils\\murmurhash.pyx\u001b[0m in \u001b[0;36msklearn.utils.murmurhash.murmurhash3_32\u001b[1;34m()\u001b[0m\n",
      "\u001b[1;31mTypeError\u001b[0m: key 2147646347 with type <class 'numpy.int64'> is not supported. Explicit conversion to bytes is required"
     ]
    }
   ],
   "source": [
    "avalanche_experiment(hMurmash,\"Murmash Hash Function\")"
   ]
  }
 ],
 "metadata": {
  "kernelspec": {
   "display_name": "Python 3",
   "language": "python",
   "name": "python3"
  },
  "language_info": {
   "codemirror_mode": {
    "name": "ipython",
    "version": 3
   },
   "file_extension": ".py",
   "mimetype": "text/x-python",
   "name": "python",
   "nbconvert_exporter": "python",
   "pygments_lexer": "ipython3",
   "version": "3.7.3"
  }
 },
 "nbformat": 4,
 "nbformat_minor": 2
}
